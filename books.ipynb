{
  "nbformat": 4,
  "nbformat_minor": 0,
  "metadata": {
    "colab": {
      "provenance": [],
      "authorship_tag": "ABX9TyP8fSkRi7vFvJfZC3fBlCX5",
      "include_colab_link": true
    },
    "kernelspec": {
      "name": "python3",
      "display_name": "Python 3"
    },
    "language_info": {
      "name": "python"
    }
  },
  "cells": [
    {
      "cell_type": "markdown",
      "metadata": {
        "id": "view-in-github",
        "colab_type": "text"
      },
      "source": [
        "<a href=\"https://colab.research.google.com/github/OlugbengaHub/MyRepo/blob/master/books.ipynb\" target=\"_parent\"><img src=\"https://colab.research.google.com/assets/colab-badge.svg\" alt=\"Open In Colab\"/></a>"
      ]
    },
    {
      "cell_type": "code",
      "execution_count": 1,
      "metadata": {
        "id": "jv77ge08dgqV"
      },
      "outputs": [],
      "source": [
        "import requests"
      ]
    },
    {
      "cell_type": "code",
      "source": [
        "from bs4 import BeautifulSoup"
      ],
      "metadata": {
        "id": "xModq2ZtfK-Z"
      },
      "execution_count": 10,
      "outputs": []
    },
    {
      "cell_type": "code",
      "source": [
        "import pandas as pd"
      ],
      "metadata": {
        "id": "jZk0IZNydmYr"
      },
      "execution_count": 27,
      "outputs": []
    },
    {
      "cell_type": "code",
      "source": [
        "books = []\n",
        "for i in range(1,6):\n",
        "  url = f\"https://books.toscrape.com/catalogue/page-{i}.html\"\n",
        "  response = requests.get(url)\n",
        "  response = response.content\n",
        "  soup = BeautifulSoup(response, 'html.parser')\n",
        "  ol = soup.find('ol')\n",
        "  articles = ol.find_all('article', class_='product_pod')\n",
        "\n",
        "  for article in articles:\n",
        "    image = article.find('img')\n",
        "    title = image.attrs['alt']\n",
        "    star = article.find('p')\n",
        "    star = star['class'][1]\n",
        "    price = article.find('p', class_='price_color').text\n",
        "    price = float(price[1:])\n",
        "    books.append([title, price, star])\n",
        "    df = pd.DataFrame(books, columns=['Title', 'Price', 'Star Rating'])\n",
        "    df.to_csv('books.csv')"
      ],
      "metadata": {
        "id": "ytfOFsecw1h7"
      },
      "execution_count": 31,
      "outputs": []
    },
    {
      "cell_type": "code",
      "source": [],
      "metadata": {
        "id": "qd0PNSwdV6GG"
      },
      "execution_count": null,
      "outputs": []
    }
  ]
}